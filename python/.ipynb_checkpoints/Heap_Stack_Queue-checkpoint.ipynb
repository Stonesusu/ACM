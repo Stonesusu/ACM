{
 "cells": [
  {
   "cell_type": "code",
   "execution_count": 1,
   "metadata": {},
   "outputs": [],
   "source": [
    "import os\n",
    "import numpy as np\n",
    "import pandas as pd"
   ]
  },
  {
   "cell_type": "markdown",
   "metadata": {},
   "source": [
    "## 数组中的第K个最大元素  \n",
    "\n",
    "输入: [3,2,1,5,6,4] 和 k = 2   \n",
    "输出: 5  \n",
    "\n",
    "输入: [3,2,3,1,2,4,5,5,6] 和 k = 4  \n",
    "输出: 4  \n",
    "\n",
    "说明:  \n",
    "可以假设 k 总是有效的，且 1 ≤ k ≤ 数组的长度  "
   ]
  },
  {
   "cell_type": "code",
   "execution_count": 2,
   "metadata": {},
   "outputs": [],
   "source": [
    "class Solution(object):\n",
    "    def findKthLargest(self, nums, k):\n",
    "        \"\"\"\n",
    "        :type nums: List[int]\n",
    "        :type k: int\n",
    "        :rtype: int\n",
    "        \"\"\"\n",
    "        nums.sort()\n",
    "        return nums[-k]"
   ]
  },
  {
   "cell_type": "code",
   "execution_count": 3,
   "metadata": {},
   "outputs": [
    {
     "data": {
      "text/plain": [
       "5"
      ]
     },
     "execution_count": 3,
     "metadata": {},
     "output_type": "execute_result"
    }
   ],
   "source": [
    "arr = [3,2,1,5,6,4]\n",
    "k = 2\n",
    "solution = Solution()\n",
    "solution.findKthLargest(arr,k)"
   ]
  },
  {
   "cell_type": "markdown",
   "metadata": {},
   "source": [
    "## 数据流的中位数\n",
    "中位数是有序列表中间的数。如果列表长度是偶数，中位数则是中间两个数的平均值。  \n",
    "\n",
    "例如，  \n",
    "\n",
    "[2,3,4] 的中位数是 3  \n",
    "\n",
    "[2,3] 的中位数是 (2 + 3) / 2 = 2.5  \n",
    "\n",
    "设计一个支持以下两种操作的数据结构：  \n",
    "\n",
    "void addNum(int num) - 从数据流中添加一个整数到数据结构中。  \n",
    "double findMedian() - 返回目前所有元素的中位数。  "
   ]
  },
  {
   "cell_type": "markdown",
   "metadata": {},
   "source": [
    "解法1：笨办法，每次计算中位数之前，对数组排序一次"
   ]
  },
  {
   "cell_type": "markdown",
   "metadata": {},
   "source": [
    "进阶:\n",
    "\n",
    "如果数据流中所有整数都在 0 到 100 范围内，你将如何优化你的算法？  \n",
    "如果数据流中 99% 的整数都在 0 到 100 范围内，你将如何优化你的算法？"
   ]
  },
  {
   "cell_type": "markdown",
   "metadata": {},
   "source": [
    "## 有序矩阵中第K小的元素\n",
    "给定一个 n x n 矩阵，其中每行和每列元素均按升序排序，找到矩阵中第k小的元素。  \n",
    "请注意，它是排序后的第k小元素，而不是第k个元素。  \n",
    "\n",
    "示例:  \n",
    "matrix = [  \n",
    "   [ 1,  5,  9],  \n",
    "   [10, 11, 13],  \n",
    "  [12, 13, 15]  \n",
    "],  \n",
    "k = 8,  \n",
    "\n",
    "返回 13。"
   ]
  },
  {
   "cell_type": "code",
   "execution_count": null,
   "metadata": {},
   "outputs": [],
   "source": [
    "#解法1：遍历+排序\n",
    "class Solution(object):\n",
    "    def kthSmallest(self, matrix, k):\n",
    "        \"\"\"\n",
    "        :type matrix: List[List[int]]\n",
    "        :type k: int\n",
    "        :rtype: int\n",
    "        \"\"\"\n",
    "        l = []\n",
    "        for i in range(len(matrix)):\n",
    "            for j in range(len(matrix[0])):\n",
    "                l.append(matrix[i][j]) \n",
    "        l.sort()\n",
    "        return l[k-1]"
   ]
  },
  {
   "cell_type": "code",
   "execution_count": 26,
   "metadata": {},
   "outputs": [],
   "source": [
    "#解法2：堆\n",
    "import heapq\n",
    "class Solution(object):\n",
    "    def kthSmallest(self, matrix, k):\n",
    "        \"\"\"\n",
    "        :type matrix: List[List[int]]\n",
    "        :type k: int\n",
    "        :rtype: int\n",
    "        \"\"\"\n",
    "\n",
    "        heap = []\n",
    "        heapq.heapify(heap)\n",
    "        def heap_add(num):\n",
    "            if len(heap) >= k:\n",
    "                heapq.heappop(heap)\n",
    "            #heapq是最小堆(优先队列),加上-号后实际上转换为最大（第K小元素）\n",
    "            heapq.heappush(heap,-num)\n",
    "        for row in matrix:\n",
    "            if len(heap) >= k and row[0] >= -heap[0]:\n",
    "                break\n",
    "            for col in row:\n",
    "                if len(heap) >= k and col >= -heap[0]:\n",
    "                    break\n",
    "                heap_add(col)\n",
    "        return -heap[0]"
   ]
  },
  {
   "cell_type": "code",
   "execution_count": 27,
   "metadata": {},
   "outputs": [
    {
     "data": {
      "text/plain": [
       "13"
      ]
     },
     "execution_count": 27,
     "metadata": {},
     "output_type": "execute_result"
    }
   ],
   "source": [
    "matrix = [\n",
    "[ 1, 5, 9],\n",
    "[10, 11, 13],\n",
    "[12, 13, 15]\n",
    "]\n",
    "k = 8\n",
    "solution = Solution()\n",
    "solution.kthSmallest(matrix, k)"
   ]
  },
  {
   "cell_type": "code",
   "execution_count": 28,
   "metadata": {},
   "outputs": [
    {
     "data": {
      "text/plain": [
       "[1, 2, 4]"
      ]
     },
     "execution_count": 28,
     "metadata": {},
     "output_type": "execute_result"
    }
   ],
   "source": [
    "arr = [1,5,9,2,4,5]\n",
    "heapq.heapify(arr)\n",
    "heapq.nsmallest(3,arr)"
   ]
  },
  {
   "cell_type": "markdown",
   "metadata": {},
   "source": [
    "## 前 K 个高频元素\n",
    "给定一个非空的整数数组，返回其中出现频率前 k 高的元素。  \n",
    "\n",
    "示例 1:  \n",
    "输入: nums = [1,1,1,2,2,3], k = 2  \n",
    "输出: [1,2]  \n",
    "示例 2:  \n",
    "输入: nums = [1], k = 1  \n",
    "输出: [1]  \n",
    "\n",
    "说明：  \n",
    "\n",
    "你可以假设给定的 k 总是合理的，且 1 ≤ k ≤ 数组中不相同的元素的个数。  \n",
    "你的算法的时间复杂度必须优于 O(n log n) , n 是数组的大小。  "
   ]
  },
  {
   "cell_type": "code",
   "execution_count": 29,
   "metadata": {},
   "outputs": [],
   "source": [
    "class Solution(object):\n",
    "    def topKFrequent(self, nums, k):\n",
    "        \"\"\"\n",
    "        :type nums: List[int]\n",
    "        :type k: int\n",
    "        :rtype: List[int]\n",
    "        \"\"\"\n",
    "        if len(nums) == 0:\n",
    "            return []\n",
    "        dic = {}\n",
    "        for num in nums:\n",
    "            if num in dic:\n",
    "                dic[num] += 1\n",
    "            else:\n",
    "                dic[num] = 1\n",
    "\n",
    "\n",
    "        l = sorted(dic.items(),key=lambda x:x[1],reverse = True)\n",
    "        return [item[0] for item in l[:k]]"
   ]
  },
  {
   "cell_type": "code",
   "execution_count": null,
   "metadata": {},
   "outputs": [],
   "source": []
  },
  {
   "cell_type": "code",
   "execution_count": 32,
   "metadata": {},
   "outputs": [
    {
     "data": {
      "text/plain": [
       "[3, 2, 1]"
      ]
     },
     "execution_count": 32,
     "metadata": {},
     "output_type": "execute_result"
    }
   ],
   "source": [
    "arr = [1,2,3]\n",
    "arr[::-1]"
   ]
  },
  {
   "cell_type": "markdown",
   "metadata": {},
   "source": [
    "## 逆波兰表达式求值\n",
    "有效的运算符包括 +, -, *, / 。每个运算对象可以是整数，也可以是另一个逆波兰表达式。  \n",
    "\n",
    "说明：  \n",
    "\n",
    "整数除法只保留整数部分。  \n",
    "给定逆波兰表达式总是有效的。换句话说，表达式总会得出有效数值且不存在除数为 0 的情况。  \n",
    "示例 1：  \n",
    "输入: [\"2\", \"1\", \"+\", \"3\", \"*\"]  \n",
    "输出: 9  \n",
    "解释: ((2 + 1) * 3) = 9  \n",
    "示例 2：  \n",
    "输入: [\"4\", \"13\", \"5\", \"/\", \"+\"]  \n",
    "输出: 6  \n",
    "解释: (4 + (13 / 5)) = 6  "
   ]
  },
  {
   "cell_type": "code",
   "execution_count": 35,
   "metadata": {},
   "outputs": [],
   "source": [
    "#很明显可以利用栈先进后出的特性\n",
    "class Solution:\n",
    "    def evalRPN(self, tokens):\n",
    "        \"\"\"\n",
    "        :type tokens: List[str]\n",
    "        :rtype: int\n",
    "        \"\"\"\n",
    "        def add(x,y):\n",
    "            return x+y\n",
    "        def sub(x,y):\n",
    "            return x-y\n",
    "        def mul(x,y):\n",
    "            return x*y\n",
    "        def div(x,y):\n",
    "            if x*y < 0:\n",
    "                return -(-x/y)\n",
    "            else:\n",
    "                return x/y\n",
    "\n",
    "        stack = []\n",
    "        ops = {\"+\":add,\"-\":sub,\"*\":mul,\"/\":div}\n",
    "        for char in tokens:\n",
    "            if char in ops:\n",
    "                t1 = int(stack.pop())\n",
    "                t2 = int(stack.pop())\n",
    "                stack.append(ops[char](t2,t1))\n",
    "            else:\n",
    "                stack.append(char)\n",
    "        return int(stack.pop())"
   ]
  },
  {
   "cell_type": "code",
   "execution_count": 36,
   "metadata": {},
   "outputs": [
    {
     "data": {
      "text/plain": [
       "6"
      ]
     },
     "execution_count": 36,
     "metadata": {},
     "output_type": "execute_result"
    }
   ],
   "source": [
    "arr = [\"4\", \"13\", \"5\", \"/\", \"+\"]\n",
    "solution = Solution()\n",
    "solution.evalRPN(arr)"
   ]
  },
  {
   "cell_type": "markdown",
   "metadata": {},
   "source": [
    "## 链表"
   ]
  },
  {
   "cell_type": "code",
   "execution_count": 61,
   "metadata": {},
   "outputs": [],
   "source": [
    "# 排序链表，链表上的归并排序\n",
    "class ListNode(object):\n",
    "    def __init__(self,x):\n",
    "        self.val = x\n",
    "        self.next = None\n",
    "        \n",
    "class Solution(object):\n",
    "    def sortList(self,head):\n",
    "        if head is None or head.next is None:\n",
    "            return head\n",
    "\n",
    "        mid = self.get_mid(head)\n",
    "        l = head\n",
    "        r = mid.next\n",
    "        #mid.next置为None,实际上就是将链表切分成两段\n",
    "        mid.next = None\n",
    "        return self.merge(self.sortList(l),self.sortList(r))\n",
    "\n",
    "\n",
    "    def merge(self,p,q):\n",
    "        #构造一个首节点,最后并不返回首节点\n",
    "        tmp = ListNode(0)\n",
    "        h = tmp\n",
    "        while p and q:\n",
    "            if p.val < q.val:\n",
    "                h.next = p\n",
    "                p = p.next\n",
    "            else:\n",
    "                h.next = q\n",
    "                q = q.next\n",
    "            h = h.next\n",
    "\n",
    "#         if p:\n",
    "#             h.next = p\n",
    "#         if q:\n",
    "#             h.next = q\n",
    "        #取最后一个有效节点,否则h.next=None\n",
    "        h.next = p or q\n",
    "        return tmp.next\n",
    "\n",
    "    def get_mid(self,node):\n",
    "        if node is None:\n",
    "            return None\n",
    "        fast = slow = node\n",
    "        #slow走一步，fast走两步,返回slow即mid\n",
    "        while fast.next and fast.next.next:\n",
    "            slow = slow.next\n",
    "            fast = fast.next.next\n",
    "        return slow"
   ]
  },
  {
   "cell_type": "code",
   "execution_count": 62,
   "metadata": {},
   "outputs": [
    {
     "name": "stdout",
     "output_type": "stream",
     "text": [
      "0\n",
      "1\n",
      "4\n",
      "6\n",
      "7\n"
     ]
    }
   ],
   "source": [
    "s = Solution()\n",
    "l = head = ListNode(None)\n",
    "for val in [0, 4, 1, 6, 7]:\n",
    "    l.next = ListNode(val)\n",
    "    l = l.next\n",
    "\n",
    "li = s.sortList(head.next)\n",
    "while li:\n",
    "    print(li.val)\n",
    "    li = li.next"
   ]
  },
  {
   "cell_type": "code",
   "execution_count": 44,
   "metadata": {},
   "outputs": [
    {
     "data": {
      "text/plain": [
       "[1, 2, 3, 4, 5, 6, 7, 21, 23, 45, 90]"
      ]
     },
     "execution_count": 44,
     "metadata": {},
     "output_type": "execute_result"
    }
   ],
   "source": [
    "#归并排序\n",
    "def MergeSort(lists):\n",
    "    if len(lists) <= 1:\n",
    "        return lists\n",
    "    num = int( len(lists) / 2 )\n",
    "    left = MergeSort(lists[:num])\n",
    "    right = MergeSort(lists[num:])\n",
    "    return Merge(left, right)\n",
    "def Merge(left,right):\n",
    "    r, l=0, 0\n",
    "    result=[]\n",
    "    while l<len(left) and r<len(right):\n",
    "        if left[l] <= right[r]:\n",
    "            result.append(left[l])\n",
    "            l += 1\n",
    "        else:\n",
    "            result.append(right[r])\n",
    "            r += 1\n",
    "    result += list(left[l:])\n",
    "    result += list(right[r:])\n",
    "    return result\n",
    "MergeSort([1, 2, 3, 4, 5, 6, 7, 90, 21, 23, 45])"
   ]
  },
  {
   "cell_type": "markdown",
   "metadata": {},
   "source": [
    "## 树"
   ]
  },
  {
   "cell_type": "markdown",
   "metadata": {},
   "source": [
    "## 二叉搜索树中第K小的元素"
   ]
  },
  {
   "attachments": {
    "image.png": {
     "image/png": "[encoded data removed]"
    }
   },
   "cell_type": "markdown",
   "metadata": {},
   "source": [
    "![image.png](attachment:image.png)"
   ]
  },
  {
   "cell_type": "code",
   "execution_count": 63,
   "metadata": {},
   "outputs": [],
   "source": [
    "class TreeNodoe(object):\n",
    "    def __init__(self,x):\n",
    "        self.val = x\n",
    "        self.left = None\n",
    "        self.right = None\n",
    "        \n",
    "class Solution(object):\n",
    "    def kthSmallest(self,root,k):\n",
    "        def inorderTraversal(root):\n",
    "            if root == None:\n",
    "                return []\n",
    "            res = []\n",
    "            res += inorderTraversal(root.left)\n",
    "            res.append(root.val)\n",
    "            res += inorderTraversal(root.right)\n",
    "            return res\n",
    "\n",
    "        return inorderTraversal(root)[k-1]"
   ]
  },
  {
   "cell_type": "code",
   "execution_count": null,
   "metadata": {},
   "outputs": [],
   "source": [
    "root = [3,1,4,None,2]\n",
    "k=1\n",
    "l = root = TreeNodoe(3)\n",
    "for idx in range(len(root)):\n",
    "    TreeNodoe(val)"
   ]
  },
  {
   "cell_type": "code",
   "execution_count": null,
   "metadata": {},
   "outputs": [],
   "source": []
  },
  {
   "cell_type": "code",
   "execution_count": null,
   "metadata": {},
   "outputs": [],
   "source": [
    "from graphviz import Digraph\n",
    "import uuid\n",
    "from random import sample\n",
    "\n",
    "# 二叉树类\n",
    "class BTree(object):\n",
    "\n",
    "    # 初始化\n",
    "    def __init__(self, data=None, left=None, right=None):\n",
    "        self.data = data    # 数据域\n",
    "        self.left = left    # 左子树\n",
    "        self.right = right  # 右子树\n",
    "        self.dot = Digraph(comment='Binary Tree')\n",
    "\n",
    "    # 前序遍历\n",
    "    def preorder(self):\n",
    "\n",
    "        if self.data is not None:\n",
    "            print(self.data, end=' ')\n",
    "        if self.left is not None:\n",
    "            self.left.preorder()\n",
    "        if self.right is not None:\n",
    "            self.right.preorder()\n",
    "\n",
    "    # 中序遍历\n",
    "    def inorder(self):\n",
    "\n",
    "        if self.left is not None:\n",
    "            self.left.inorder()\n",
    "        if self.data is not None:\n",
    "            print(self.data, end=' ')\n",
    "        if self.right is not None:\n",
    "            self.right.inorder()\n",
    "\n",
    "    # 后序遍历\n",
    "    def postorder(self):\n",
    "\n",
    "        if self.left is not None:\n",
    "            self.left.postorder()\n",
    "        if self.right is not None:\n",
    "            self.right.postorder()\n",
    "        if self.data is not None:\n",
    "            print(self.data, end=' ')\n",
    "\n",
    "    # 层序遍历\n",
    "    def levelorder(self):\n",
    "\n",
    "        # 返回某个节点的左孩子\n",
    "        def LChild_Of_Node(node):\n",
    "            return node.left if node.left is not None else None\n",
    "        # 返回某个节点的右孩子\n",
    "        def RChild_Of_Node(node):\n",
    "            return node.right if node.right is not None else None\n",
    "\n",
    "        # 层序遍历列表\n",
    "        level_order = []\n",
    "        # 是否添加根节点中的数据\n",
    "        if self.data is not None:\n",
    "            level_order.append([self])\n",
    "\n",
    "        # 二叉树的高度\n",
    "        height = self.height()\n",
    "        if height >= 1:\n",
    "            # 对第二层及其以后的层数进行操作, 在level_order中添加节点而不是数据\n",
    "            for _ in range(2, height + 1):\n",
    "                level = []  # 该层的节点\n",
    "                for node in level_order[-1]:\n",
    "                    # 如果左孩子非空，则添加左孩子\n",
    "                    if LChild_Of_Node(node):\n",
    "                        level.append(LChild_Of_Node(node))\n",
    "                    # 如果右孩子非空，则添加右孩子\n",
    "                    if RChild_Of_Node(node):\n",
    "                        level.append(RChild_Of_Node(node))\n",
    "                # 如果该层非空，则添加该层\n",
    "                if level:\n",
    "                    level_order.append(level)\n",
    "\n",
    "            # 取出每层中的数据\n",
    "            for i in range(0, height):  # 层数\n",
    "                for index in range(len(level_order[i])):\n",
    "                    level_order[i][index] = level_order[i][index].data\n",
    "\n",
    "        return level_order\n",
    "\n",
    "    # 二叉树的高度\n",
    "    def height(self):\n",
    "        # 空的树高度为0, 只有root节点的树高度为1\n",
    "        if self.data is None:\n",
    "            return 0\n",
    "        elif self.left is None and self.right is None:\n",
    "            return 1\n",
    "        elif self.left is None and self.right is not None:\n",
    "            return 1 + self.right.height()\n",
    "        elif self.left is not None and self.right is None:\n",
    "            return 1 + self.left.height()\n",
    "        else:\n",
    "            return 1 + max(self.left.height(), self.right.height())\n",
    "\n",
    "    # 二叉树的叶子节点\n",
    "    def leaves(self):\n",
    "\n",
    "        if self.data is None:\n",
    "            return None\n",
    "        elif self.left is None and self.right is None:\n",
    "            print(self.data, end=' ')\n",
    "        elif self.left is None and self.right is not None:\n",
    "            self.right.leaves()\n",
    "        elif self.right is None and self.left is not None:\n",
    "            self.left.leaves()\n",
    "        else:\n",
    "            self.left.leaves()\n",
    "            self.right.leaves()\n",
    "\n",
    "    # 利用Graphviz实现二叉树的可视化\n",
    "    def print_tree(self, save_path='./Binary_Tree.gv', label=False):\n",
    "\n",
    "        # colors for labels of nodes\n",
    "        colors = ['skyblue', 'tomato', 'orange', 'purple', 'green', 'yellow', 'pink', 'red']\n",
    "\n",
    "        # 绘制以某个节点为根节点的二叉树\n",
    "        def print_node(node, node_tag):\n",
    "            # 节点颜色\n",
    "            color = sample(colors,1)[0]\n",
    "            if node.left is not None:\n",
    "                left_tag = str(uuid.uuid1())            # 左节点的数据\n",
    "                self.dot.node(left_tag, str(node.left.data), style='filled', color=color)    # 左节点\n",
    "                label_string = 'L' if label else ''    # 是否在连接线上写上标签，表明为左子树\n",
    "                self.dot.edge(node_tag, left_tag, label=label_string)   # 左节点与其父节点的连线\n",
    "                print_node(node.left, left_tag)\n",
    "\n",
    "            if node.right is not None:\n",
    "                right_tag = str(uuid.uuid1())\n",
    "                self.dot.node(right_tag, str(node.right.data), style='filled', color=color)\n",
    "                label_string = 'R' if label else ''  # 是否在连接线上写上标签，表明为右子树\n",
    "                self.dot.edge(node_tag, right_tag, label=label_string)\n",
    "                print_node(node.right, right_tag)\n",
    "\n",
    "        # 如果树非空\n",
    "        if self.data is not None:\n",
    "            root_tag = str(uuid.uuid1())                # 根节点标签\n",
    "            self.dot.node(root_tag, str(self.data), style='filled', color=sample(colors,1)[0])     # 创建根节点\n",
    "            print_node(self, root_tag)\n",
    "\n",
    "        self.dot.render(save_path)                              # 保存文件为指定文件"
   ]
  },
  {
   "cell_type": "code",
   "execution_count": null,
   "metadata": {},
   "outputs": [],
   "source": []
  },
  {
   "cell_type": "code",
   "execution_count": null,
   "metadata": {},
   "outputs": [],
   "source": []
  },
  {
   "cell_type": "code",
   "execution_count": null,
   "metadata": {},
   "outputs": [],
   "source": []
  }
 ],
 "metadata": {
  "kernelspec": {
   "display_name": "Python 3",
   "language": "python",
   "name": "python3"
  },
  "language_info": {
   "codemirror_mode": {
    "name": "ipython",
    "version": 3
   },
   "file_extension": ".py",
   "mimetype": "text/x-python",
   "name": "python",
   "nbconvert_exporter": "python",
   "pygments_lexer": "ipython3",
   "version": "3.7.4"
  }
 },
 "nbformat": 4,
 "nbformat_minor": 2
}
