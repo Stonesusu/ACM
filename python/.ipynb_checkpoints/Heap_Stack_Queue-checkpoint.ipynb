{
 "cells": [
  {
   "cell_type": "code",
   "execution_count": 1,
   "metadata": {},
   "outputs": [],
   "source": [
    "import os\n",
    "import numpy as np\n",
    "import pandas as pd"
   ]
  },
  {
   "cell_type": "markdown",
   "metadata": {},
   "source": [
    "## 数组中的第K个最大元素  \n",
    "\n",
    "输入: [3,2,1,5,6,4] 和 k = 2   \n",
    "输出: 5  \n",
    "\n",
    "输入: [3,2,3,1,2,4,5,5,6] 和 k = 4  \n",
    "输出: 4  \n",
    "\n",
    "说明:  \n",
    "可以假设 k 总是有效的，且 1 ≤ k ≤ 数组的长度  "
   ]
  },
  {
   "cell_type": "code",
   "execution_count": 2,
   "metadata": {},
   "outputs": [],
   "source": [
    "class Solution(object):\n",
    "    def findKthLargest(self, nums, k):\n",
    "        \"\"\"\n",
    "        :type nums: List[int]\n",
    "        :type k: int\n",
    "        :rtype: int\n",
    "        \"\"\"\n",
    "        nums.sort()\n",
    "        return nums[-k]"
   ]
  },
  {
   "cell_type": "code",
   "execution_count": 3,
   "metadata": {},
   "outputs": [
    {
     "data": {
      "text/plain": [
       "5"
      ]
     },
     "execution_count": 3,
     "metadata": {},
     "output_type": "execute_result"
    }
   ],
   "source": [
    "arr = [3,2,1,5,6,4]\n",
    "k = 2\n",
    "solution = Solution()\n",
    "solution.findKthLargest(arr,k)"
   ]
  },
  {
   "cell_type": "markdown",
   "metadata": {},
   "source": [
    "## 数据流的中位数\n",
    "中位数是有序列表中间的数。如果列表长度是偶数，中位数则是中间两个数的平均值。  \n",
    "\n",
    "例如，  \n",
    "\n",
    "[2,3,4] 的中位数是 3  \n",
    "\n",
    "[2,3] 的中位数是 (2 + 3) / 2 = 2.5  \n",
    "\n",
    "设计一个支持以下两种操作的数据结构：  \n",
    "\n",
    "void addNum(int num) - 从数据流中添加一个整数到数据结构中。  \n",
    "double findMedian() - 返回目前所有元素的中位数。  "
   ]
  },
  {
   "cell_type": "markdown",
   "metadata": {},
   "source": [
    "解法1：笨办法，每次计算中位数之前，对数组排序一次"
   ]
  },
  {
   "cell_type": "markdown",
   "metadata": {},
   "source": [
    "进阶:\n",
    "\n",
    "如果数据流中所有整数都在 0 到 100 范围内，你将如何优化你的算法？  \n",
    "如果数据流中 99% 的整数都在 0 到 100 范围内，你将如何优化你的算法？"
   ]
  },
  {
   "cell_type": "markdown",
   "metadata": {},
   "source": [
    "## 有序矩阵中第K小的元素\n",
    "给定一个 n x n 矩阵，其中每行和每列元素均按升序排序，找到矩阵中第k小的元素。  \n",
    "请注意，它是排序后的第k小元素，而不是第k个元素。  \n",
    "\n",
    "示例:  \n",
    "matrix = [  \n",
    "   [ 1,  5,  9],  \n",
    "   [10, 11, 13],  \n",
    "  [12, 13, 15]  \n",
    "],  \n",
    "k = 8,  \n",
    "\n",
    "返回 13。"
   ]
  },
  {
   "cell_type": "code",
   "execution_count": null,
   "metadata": {},
   "outputs": [],
   "source": [
    "#解法1：遍历+排序\n",
    "class Solution(object):\n",
    "    def kthSmallest(self, matrix, k):\n",
    "        \"\"\"\n",
    "        :type matrix: List[List[int]]\n",
    "        :type k: int\n",
    "        :rtype: int\n",
    "        \"\"\"\n",
    "        l = []\n",
    "        for i in range(len(matrix)):\n",
    "            for j in range(len(matrix[0])):\n",
    "                l.append(matrix[i][j]) \n",
    "        l.sort()\n",
    "        return l[k-1]"
   ]
  },
  {
   "cell_type": "code",
   "execution_count": 26,
   "metadata": {},
   "outputs": [],
   "source": [
    "#解法2：堆\n",
    "import heapq\n",
    "class Solution(object):\n",
    "    def kthSmallest(self, matrix, k):\n",
    "        \"\"\"\n",
    "        :type matrix: List[List[int]]\n",
    "        :type k: int\n",
    "        :rtype: int\n",
    "        \"\"\"\n",
    "\n",
    "        heap = []\n",
    "        heapq.heapify(heap)\n",
    "        def heap_add(num):\n",
    "            if len(heap) >= k:\n",
    "                heapq.heappop(heap)\n",
    "            #heapq是最小堆(优先队列),加上-号后实际上转换为最大（第K小元素）\n",
    "            heapq.heappush(heap,-num)\n",
    "        for row in matrix:\n",
    "            if len(heap) >= k and row[0] >= -heap[0]:\n",
    "                break\n",
    "            for col in row:\n",
    "                if len(heap) >= k and col >= -heap[0]:\n",
    "                    break\n",
    "                heap_add(col)\n",
    "        return -heap[0]"
   ]
  },
  {
   "cell_type": "code",
   "execution_count": 27,
   "metadata": {},
   "outputs": [
    {
     "data": {
      "text/plain": [
       "13"
      ]
     },
     "execution_count": 27,
     "metadata": {},
     "output_type": "execute_result"
    }
   ],
   "source": [
    "matrix = [\n",
    "[ 1, 5, 9],\n",
    "[10, 11, 13],\n",
    "[12, 13, 15]\n",
    "]\n",
    "k = 8\n",
    "solution = Solution()\n",
    "solution.kthSmallest(matrix, k)"
   ]
  },
  {
   "cell_type": "code",
   "execution_count": 28,
   "metadata": {},
   "outputs": [
    {
     "data": {
      "text/plain": [
       "[1, 2, 4]"
      ]
     },
     "execution_count": 28,
     "metadata": {},
     "output_type": "execute_result"
    }
   ],
   "source": [
    "arr = [1,5,9,2,4,5]\n",
    "heapq.heapify(arr)\n",
    "heapq.nsmallest(3,arr)"
   ]
  },
  {
   "cell_type": "code",
   "execution_count": null,
   "metadata": {},
   "outputs": [],
   "source": []
  },
  {
   "cell_type": "code",
   "execution_count": null,
   "metadata": {},
   "outputs": [],
   "source": []
  },
  {
   "cell_type": "code",
   "execution_count": null,
   "metadata": {},
   "outputs": [],
   "source": []
  },
  {
   "cell_type": "code",
   "execution_count": null,
   "metadata": {},
   "outputs": [],
   "source": []
  },
  {
   "cell_type": "code",
   "execution_count": null,
   "metadata": {},
   "outputs": [],
   "source": []
  }
 ],
 "metadata": {
  "kernelspec": {
   "display_name": "Python 3",
   "language": "python",
   "name": "python3"
  },
  "language_info": {
   "codemirror_mode": {
    "name": "ipython",
    "version": 3
   },
   "file_extension": ".py",
   "mimetype": "text/x-python",
   "name": "python",
   "nbconvert_exporter": "python",
   "pygments_lexer": "ipython3",
   "version": "3.7.4"
  }
 },
 "nbformat": 4,
 "nbformat_minor": 2
}
